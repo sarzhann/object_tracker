{
 "cells": [
  {
   "cell_type": "markdown",
   "metadata": {},
   "source": [
    "## Follow steps to scrape google images\n",
    "* Open Google Chrome (with Firefox it doesn't work)\n",
    "* Disable your Ad-Blockers\n",
    "* Search for necessary images in Google Images\n",
    "* Scroll down until there are no more images. You may need to click on the dialogues a few times to get even more images.\n",
    "* Use Ctrl-Shift-J to open the Console.\n",
    "\n",
    "Invoke the following command and it will download file to your pc"
   ]
  },
  {
   "cell_type": "code",
   "execution_count": null,
   "metadata": {},
   "outputs": [],
   "source": [
    "urls = Array.from(document.querySelectorAll('.rg_di .rg_meta')).map(el=>JSON.parse(el.textContent).ou);\n",
    "window.open('data:text/csv;charset=utf-8,' + escape(urls.join('\\n')));"
   ]
  },
  {
   "cell_type": "markdown",
   "metadata": {},
   "source": [
    "* Install fastai dependencies"
   ]
  },
  {
   "cell_type": "code",
   "execution_count": 1,
   "metadata": {},
   "outputs": [
    {
     "name": "stdout",
     "output_type": "stream",
     "text": [
      "Requirement already satisfied: fastai in /home/sarzhann/anaconda3/lib/python3.7/site-packages (1.0.59)\n",
      "Requirement already satisfied: matplotlib in /home/sarzhann/anaconda3/lib/python3.7/site-packages (from fastai) (3.1.1)\n",
      "Requirement already satisfied: numexpr in /home/sarzhann/anaconda3/lib/python3.7/site-packages (from fastai) (2.7.0)\n",
      "Requirement already satisfied: fastprogress>=0.1.19 in /home/sarzhann/anaconda3/lib/python3.7/site-packages (from fastai) (0.1.22)\n",
      "Requirement already satisfied: nvidia-ml-py3 in /home/sarzhann/anaconda3/lib/python3.7/site-packages (from fastai) (7.352.0)\n",
      "Requirement already satisfied: Pillow in /home/sarzhann/anaconda3/lib/python3.7/site-packages (from fastai) (6.2.0)\n",
      "Requirement already satisfied: numpy>=1.15 in /home/sarzhann/anaconda3/lib/python3.7/site-packages (from fastai) (1.17.2)\n",
      "Requirement already satisfied: torchvision in /home/sarzhann/anaconda3/lib/python3.7/site-packages (from fastai) (0.4.1a0+d94043a)\n",
      "Requirement already satisfied: packaging in /home/sarzhann/anaconda3/lib/python3.7/site-packages (from fastai) (19.2)\n",
      "Requirement already satisfied: beautifulsoup4 in /home/sarzhann/anaconda3/lib/python3.7/site-packages (from fastai) (4.8.0)\n",
      "Requirement already satisfied: bottleneck in /home/sarzhann/anaconda3/lib/python3.7/site-packages (from fastai) (1.2.1)\n",
      "Requirement already satisfied: requests in /home/sarzhann/anaconda3/lib/python3.7/site-packages (from fastai) (2.22.0)\n",
      "Requirement already satisfied: pyyaml in /home/sarzhann/anaconda3/lib/python3.7/site-packages (from fastai) (5.1.2)\n",
      "Requirement already satisfied: scipy in /home/sarzhann/anaconda3/lib/python3.7/site-packages (from fastai) (1.3.1)\n",
      "Requirement already satisfied: spacy>=2.0.18 in /home/sarzhann/anaconda3/lib/python3.7/site-packages (from fastai) (2.2.3)\n",
      "Requirement already satisfied: torch>=1.0.0 in /home/sarzhann/anaconda3/lib/python3.7/site-packages (from fastai) (1.3.0)\n",
      "Requirement already satisfied: pandas in /home/sarzhann/anaconda3/lib/python3.7/site-packages (from fastai) (0.25.1)\n",
      "Requirement already satisfied: cycler>=0.10 in /home/sarzhann/anaconda3/lib/python3.7/site-packages (from matplotlib->fastai) (0.10.0)\n",
      "Requirement already satisfied: kiwisolver>=1.0.1 in /home/sarzhann/anaconda3/lib/python3.7/site-packages (from matplotlib->fastai) (1.1.0)\n",
      "Requirement already satisfied: pyparsing!=2.0.4,!=2.1.2,!=2.1.6,>=2.0.1 in /home/sarzhann/anaconda3/lib/python3.7/site-packages (from matplotlib->fastai) (2.4.2)\n",
      "Requirement already satisfied: python-dateutil>=2.1 in /home/sarzhann/anaconda3/lib/python3.7/site-packages (from matplotlib->fastai) (2.8.0)\n",
      "Requirement already satisfied: six in /home/sarzhann/anaconda3/lib/python3.7/site-packages (from torchvision->fastai) (1.12.0)\n",
      "Requirement already satisfied: soupsieve>=1.2 in /home/sarzhann/anaconda3/lib/python3.7/site-packages (from beautifulsoup4->fastai) (1.9.3)\n",
      "Requirement already satisfied: chardet<3.1.0,>=3.0.2 in /home/sarzhann/anaconda3/lib/python3.7/site-packages (from requests->fastai) (3.0.4)\n",
      "Requirement already satisfied: urllib3!=1.25.0,!=1.25.1,<1.26,>=1.21.1 in /home/sarzhann/anaconda3/lib/python3.7/site-packages (from requests->fastai) (1.24.2)\n",
      "Requirement already satisfied: certifi>=2017.4.17 in /home/sarzhann/anaconda3/lib/python3.7/site-packages (from requests->fastai) (2019.9.11)\n",
      "Requirement already satisfied: idna<2.9,>=2.5 in /home/sarzhann/anaconda3/lib/python3.7/site-packages (from requests->fastai) (2.8)\n",
      "Requirement already satisfied: blis<0.5.0,>=0.4.0 in /home/sarzhann/anaconda3/lib/python3.7/site-packages (from spacy>=2.0.18->fastai) (0.4.1)\n",
      "Requirement already satisfied: murmurhash<1.1.0,>=0.28.0 in /home/sarzhann/anaconda3/lib/python3.7/site-packages (from spacy>=2.0.18->fastai) (1.0.2)\n",
      "Requirement already satisfied: setuptools in /home/sarzhann/anaconda3/lib/python3.7/site-packages (from spacy>=2.0.18->fastai) (41.4.0)\n",
      "Requirement already satisfied: catalogue<1.1.0,>=0.0.7 in /home/sarzhann/anaconda3/lib/python3.7/site-packages (from spacy>=2.0.18->fastai) (0.0.8)\n",
      "Requirement already satisfied: thinc<7.4.0,>=7.3.0 in /home/sarzhann/anaconda3/lib/python3.7/site-packages (from spacy>=2.0.18->fastai) (7.3.1)\n",
      "Requirement already satisfied: plac<1.2.0,>=0.9.6 in /home/sarzhann/anaconda3/lib/python3.7/site-packages (from spacy>=2.0.18->fastai) (1.1.3)\n",
      "Requirement already satisfied: wasabi<1.1.0,>=0.4.0 in /home/sarzhann/anaconda3/lib/python3.7/site-packages (from spacy>=2.0.18->fastai) (0.4.2)\n",
      "Requirement already satisfied: srsly<1.1.0,>=0.1.0 in /home/sarzhann/anaconda3/lib/python3.7/site-packages (from spacy>=2.0.18->fastai) (0.2.0)\n",
      "Requirement already satisfied: preshed<3.1.0,>=3.0.2 in /home/sarzhann/anaconda3/lib/python3.7/site-packages (from spacy>=2.0.18->fastai) (3.0.2)\n",
      "Requirement already satisfied: cymem<2.1.0,>=2.0.2 in /home/sarzhann/anaconda3/lib/python3.7/site-packages (from spacy>=2.0.18->fastai) (2.0.3)\n",
      "Requirement already satisfied: pytz>=2017.2 in /home/sarzhann/anaconda3/lib/python3.7/site-packages (from pandas->fastai) (2019.3)\n",
      "Requirement already satisfied: importlib-metadata>=0.20; python_version < \"3.8\" in /home/sarzhann/anaconda3/lib/python3.7/site-packages (from catalogue<1.1.0,>=0.0.7->spacy>=2.0.18->fastai) (0.23)\n",
      "Requirement already satisfied: tqdm<5.0.0,>=4.10.0 in /home/sarzhann/anaconda3/lib/python3.7/site-packages (from thinc<7.4.0,>=7.3.0->spacy>=2.0.18->fastai) (4.36.1)\n",
      "Requirement already satisfied: zipp>=0.5 in /home/sarzhann/anaconda3/lib/python3.7/site-packages (from importlib-metadata>=0.20; python_version < \"3.8\"->catalogue<1.1.0,>=0.0.7->spacy>=2.0.18->fastai) (0.6.0)\n",
      "Requirement already satisfied: more-itertools in /home/sarzhann/anaconda3/lib/python3.7/site-packages (from zipp>=0.5->importlib-metadata>=0.20; python_version < \"3.8\"->catalogue<1.1.0,>=0.0.7->spacy>=2.0.18->fastai) (7.2.0)\n"
     ]
    }
   ],
   "source": [
    "!pip install fastai\n",
    "from fastai.vision import *"
   ]
  },
  {
   "cell_type": "markdown",
   "metadata": {},
   "source": [
    "* Change path where file was dowloaded and path where you want to scrape images "
   ]
  },
  {
   "cell_type": "code",
   "execution_count": 8,
   "metadata": {},
   "outputs": [
    {
     "data": {
      "text/html": [],
      "text/plain": [
       "<IPython.core.display.HTML object>"
      ]
     },
     "metadata": {},
     "output_type": "display_data"
    },
    {
     "name": "stdout",
     "output_type": "stream",
     "text": [
      "Error https://www.washingtonpost.com/resizer/M-WnldvRmvg3qyWg0Om8ssM6E3M=/1484x0/arc-anglerfish-washpost-prod-washpost.s3.amazonaws.com/public/UM4VXMMJ5Y7T5MPQALWPL73RGM.jpg HTTPSConnectionPool(host='www.washingtonpost.com', port=443): Read timed out. (read timeout=4)\n",
      "Error https://enzospizzaco.com/images/award-winning-pizza-catering-sq.jpg HTTPSConnectionPool(host='enzospizzaco.com', port=443): Max retries exceeded with url: /images/award-winning-pizza-catering-sq.jpg (Caused by SSLError(SSLError(\"bad handshake: Error([('SSL routines', 'tls_process_server_certificate', 'certificate verify failed')])\")))\n",
      "Error https://files.donatos.com/2018/07/02/New-Menu-Image-Pepperoni.jpg_[450x450].jpg HTTPSConnectionPool(host='files.donatos.com', port=443): Max retries exceeded with url: /2018/07/02/New-Menu-Image-Pepperoni.jpg_[450x450].jpg (Caused by SSLError(SSLError(\"bad handshake: SysCallError(104, 'ECONNRESET')\")))\n"
     ]
    }
   ],
   "source": [
    "from_path='/home/sarzhann/Downloads/download'\n",
    "to_path='/home/sarzhann/Downloads/YeraTigr'\n",
    "download_images(from_path, to_path)"
   ]
  },
  {
   "cell_type": "markdown",
   "metadata": {},
   "source": [
    "* to add prefix of folder name to images run next command: "
   ]
  },
  {
   "cell_type": "code",
   "execution_count": 9,
   "metadata": {},
   "outputs": [],
   "source": [
    "import os\n",
    "\n",
    "for root, dirs, files in os.walk(\"/home/sarzhann/Downloads/Pizza\"):\n",
    "    if not files:\n",
    "        continue\n",
    "    prefix = os.path.basename(root)\n",
    "    for f in files:\n",
    "        os.rename(os.path.join(root, f), os.path.join(root, \"{}_{}\".format(prefix, f)))"
   ]
  }
 ],
 "metadata": {
  "kernelspec": {
   "display_name": "Python 3",
   "language": "python",
   "name": "python3"
  },
  "language_info": {
   "codemirror_mode": {
    "name": "ipython",
    "version": 3
   },
   "file_extension": ".py",
   "mimetype": "text/x-python",
   "name": "python",
   "nbconvert_exporter": "python",
   "pygments_lexer": "ipython3",
   "version": "3.7.4"
  }
 },
 "nbformat": 4,
 "nbformat_minor": 2
}
